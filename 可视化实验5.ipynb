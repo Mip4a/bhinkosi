{
 "cells": [
  {
   "cell_type": "code",
   "execution_count": null,
   "id": "1198edb7",
   "metadata": {},
   "outputs": [],
   "source": [
    "导入并查看numpy版本"
   ]
  },
  {
   "cell_type": "code",
   "execution_count": 22,
   "id": "5e40899c",
   "metadata": {},
   "outputs": [
    {
     "name": "stdout",
     "output_type": "stream",
     "text": [
      "1.21.5\n"
     ]
    }
   ],
   "source": [
    "import numpy as np\n",
    "print(np.__version__)"
   ]
  },
  {
   "cell_type": "code",
   "execution_count": null,
   "id": "8a46d821",
   "metadata": {},
   "outputs": [],
   "source": [
    "创建10个全为0的一维数据并修改数据类型为整数"
   ]
  },
  {
   "cell_type": "code",
   "execution_count": 14,
   "id": "e7234bbd",
   "metadata": {},
   "outputs": [
    {
     "data": {
      "text/plain": [
       "array([0, 0, 0, 0, 0, 0, 0, 0, 0, 0])"
      ]
     },
     "execution_count": 14,
     "metadata": {},
     "output_type": "execute_result"
    }
   ],
   "source": [
    "import numpy as np\n",
    "from numpy import array\n",
    "np.zeros(10,dtype = 'int')\n",
    "array([0, 0, 0, 0, 0, 0, 0, 0, 0, 0])"
   ]
  },
  {
   "cell_type": "code",
   "execution_count": null,
   "id": "ab80dec3",
   "metadata": {},
   "outputs": [],
   "source": [
    "创建20个0-100固定步长的数"
   ]
  },
  {
   "cell_type": "code",
   "execution_count": 16,
   "id": "eb9b5215",
   "metadata": {},
   "outputs": [
    {
     "data": {
      "text/plain": [
       "array([ 0,  5, 10, 15, 20, 25, 30, 35, 40, 45, 50, 55, 60, 65, 70, 75, 80,\n",
       "       85, 90, 95])"
      ]
     },
     "execution_count": 16,
     "metadata": {},
     "output_type": "execute_result"
    }
   ],
   "source": [
    "import numpy as np\n",
    "from numpy import array\n",
    "np.arange(0,100,5)\n",
    "array([ 0,  5, 10, 15, 20, 25, 30, 35, 40, 45, 50, 55, 60, 65, 70, 75, 80,\n",
    "       85, 90, 95])"
   ]
  },
  {
   "cell_type": "code",
   "execution_count": null,
   "id": "c5fb1762",
   "metadata": {},
   "outputs": [],
   "source": [
    "实现创建⼀个10*10的ndarray对象，满⾜矩阵边界全为1，⾥⾯全为0"
   ]
  },
  {
   "cell_type": "code",
   "execution_count": 17,
   "id": "55df2c6e",
   "metadata": {},
   "outputs": [
    {
     "name": "stdout",
     "output_type": "stream",
     "text": [
      "[[1. 1. 1. 1. 1. 1. 1. 1. 1. 1.]\n",
      " [1. 0. 0. 0. 0. 0. 0. 0. 0. 1.]\n",
      " [1. 0. 0. 0. 0. 0. 0. 0. 0. 1.]\n",
      " [1. 0. 0. 0. 0. 0. 0. 0. 0. 1.]\n",
      " [1. 0. 0. 0. 0. 0. 0. 0. 0. 1.]\n",
      " [1. 0. 0. 0. 0. 0. 0. 0. 0. 1.]\n",
      " [1. 0. 0. 0. 0. 0. 0. 0. 0. 1.]\n",
      " [1. 0. 0. 0. 0. 0. 0. 0. 0. 1.]\n",
      " [1. 0. 0. 0. 0. 0. 0. 0. 0. 1.]\n",
      " [1. 1. 1. 1. 1. 1. 1. 1. 1. 1.]]\n"
     ]
    }
   ],
   "source": [
    "import numpy as np\n",
    "obj = np.zeros((10, 10))\n",
    "obj[0, :] = obj[9, :] = obj[:, 0] = obj[:, 9] = 1\n",
    "print(obj)"
   ]
  },
  {
   "cell_type": "code",
   "execution_count": null,
   "id": "781b50a0",
   "metadata": {},
   "outputs": [],
   "source": [
    "使用numpy生成6行6列的二维数组，值为1-100随机数，找到每列的最大值，获取data每行元素的大小排名，将数组按行重复一次，去除数组的重复行"
   ]
  },
  {
   "cell_type": "code",
   "execution_count": 20,
   "id": "749dfeda",
   "metadata": {},
   "outputs": [
    {
     "data": {
      "text/plain": [
       "array([[11, 60, 19, 52, 45,  6],\n",
       "       [12, 93, 15, 66, 16, 46],\n",
       "       [49, 63, 15, 12, 78, 55],\n",
       "       [64, 94, 13, 89, 81, 25],\n",
       "       [92, 72, 53, 51, 21, 11],\n",
       "       [94, 53, 10, 15, 90, 69]])"
      ]
     },
     "execution_count": 20,
     "metadata": {},
     "output_type": "execute_result"
    }
   ],
   "source": [
    "import numpy as np\n",
    "data = np.random.randint(1,100,[6,6])\n",
    "np.amax(data,axis=0)\n",
    "np.unique(data,return_counts=True)\n",
    "data.argsort()\n",
    "np.repeat(data,2,axis=0)\n",
    "np.unique(data,axis=0)"
   ]
  },
  {
   "cell_type": "code",
   "execution_count": null,
   "id": "92807538",
   "metadata": {},
   "outputs": [],
   "source": []
  }
 ],
 "metadata": {
  "kernelspec": {
   "display_name": "Python 3 (ipykernel)",
   "language": "python",
   "name": "python3"
  },
  "language_info": {
   "codemirror_mode": {
    "name": "ipython",
    "version": 3
   },
   "file_extension": ".py",
   "mimetype": "text/x-python",
   "name": "python",
   "nbconvert_exporter": "python",
   "pygments_lexer": "ipython3",
   "version": "3.9.12"
  }
 },
 "nbformat": 4,
 "nbformat_minor": 5
}
