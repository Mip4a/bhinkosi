{
 "cells": [
  {
   "cell_type": "code",
   "execution_count": null,
   "id": "85b91e55",
   "metadata": {},
   "outputs": [],
   "source": [
    "from time import sleep\n",
    "import requests\n",
    "from bs4 import BeautifulSoup\n",
    "from urllib.parse import urljoin\n",
    "import csv\n",
    "import sys \n",
    "\n",
    "def parse_page(page_url):\n",
    "    req = requests.get(page_url)\n",
    "    soup = BeautifulSoup(req.content.decode('utf-8'), features='lxml')\n",
    "    lis = soup.select('.ztxw_ul2 li')\n",
    "    with open(\"D:/pa1.csv\",'w',newline='',encoding='utf-8') as csvfile:\n",
    "        writer = csv.writer(csvfile)\n",
    "        writer.writerow(['时间', '标题', '链接'])\n",
    "        for li in lis:\n",
    "            row = []\n",
    "            title = li.select('.tit .bt')[0].text.strip()\n",
    "            dates = li.select('.sj')[0]\n",
    "            date = dates.select('span')[0].text.strip() + '.' + dates.select('p')[0].text.strip()\n",
    "            url = urljoin(page_url, li.a['href'])\n",
    "            row.append(date)\n",
    "            row.append(title)\n",
    "            row.append(url)\n",
    "            writer.writerow(row)\n",
    "    next_page = None\n",
    "    try:\n",
    "        next_page = soup.select('.p_next a')[0]['href']\n",
    "        next_page = urljoin(page_url, next_page)\n",
    "        #将第二个参数中缺的部分用第-个参数的补齐，如果第二个有完整的路径，则以第二个为主。\n",
    "    except:\n",
    "        print('end of pages')\n",
    "    return next_page\n",
    "\n",
    "\n",
    "if __name__ == '__main__':\n",
    "    base_url = r'https://www.tsinghua.edu.cn/news/zxdt.htm'\n",
    "    url = base_url\n",
    "    while True:\n",
    "        next_page = parse_page(url)\n",
    "        if not next_page:\n",
    "            break\n",
    "        sleep(2)\n",
    "        url = next_page\n",
    "    print(\"完成\")"
   ]
  },
  {
   "cell_type": "code",
   "execution_count": 13,
   "id": "8c8a86eb",
   "metadata": {},
   "outputs": [],
   "source": [
    "\n"
   ]
  },
  {
   "cell_type": "code",
   "execution_count": null,
   "id": "cc56c98d",
   "metadata": {},
   "outputs": [],
   "source": []
  }
 ],
 "metadata": {
  "kernelspec": {
   "display_name": "Python 3 (ipykernel)",
   "language": "python",
   "name": "python3"
  },
  "language_info": {
   "codemirror_mode": {
    "name": "ipython",
    "version": 3
   },
   "file_extension": ".py",
   "mimetype": "text/x-python",
   "name": "python",
   "nbconvert_exporter": "python",
   "pygments_lexer": "ipython3",
   "version": "3.9.12"
  }
 },
 "nbformat": 4,
 "nbformat_minor": 5
}
