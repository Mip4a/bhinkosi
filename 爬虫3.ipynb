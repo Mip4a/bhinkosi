{
 "cells": [
  {
   "cell_type": "code",
   "execution_count": null,
   "id": "eba608ef",
   "metadata": {},
   "outputs": [],
   "source": [
    "from time import sleep\n",
    "import requests\n",
    "from bs4 import BeautifulSoup\n",
    "from urllib.parse import urljoin\n",
    "import csv\n",
    "\n",
    "def parse_page(page_url):\n",
    "    req = requests.get(page_url)\n",
    "    soup = BeautifulSoup(req.content.decode('utf-8'), features='lxml')\n",
    "    lis = soup.select('.ztxw_ul2 li')\n",
    "    with open(\"D:/Jupyter/data.csv\",'w',newline='',encoding='utf-8') as csvfile:\n",
    "        writer = csv.writer(csvfile)\n",
    "        writer.writerow(['时间', '标题', '链接'])\n",
    "        for li in lis:\n",
    "            row = []\n",
    "            title = li.select('.tit .bt')[0].text.strip()\n",
    "            dates = li.select('.sj')[0]\n",
    "            date = dates.select('span')[0].text.strip() + '.' + dates.select('p')[0].text.strip()\n",
    "            url = urljoin(page_url, li.a['href'])\n",
    "            row.append(date)\n",
    "            row.append(title)\n",
    "            row.append(url)\n",
    "            writer.writerow(row)\n",
    "    next_page = None\n",
    "    try:\n",
    "        next_page = soup.select('.p_next a')[0]['href']\n",
    "        next_page = urljoin(page_url, next_page)\n",
    "    except:\n",
    "        print('end of pages')\n",
    "    return next_page\n",
    "\n",
    "if __name__ == '__main__':\n",
    "    base_url = r'https://www.tsinghua.edu.cn/news/zxdt.htm'\n",
    "    url = base_url\n",
    "    while True:\n",
    "        next_page = parse_page(url)\n",
    "        if not next_page:\n",
    "            break\n",
    "        sleep(2)\n",
    "        url = next_page\n",
    "    print(\"下载完毕!\")"
   ]
  },
  {
   "cell_type": "code",
   "execution_count": 5,
   "id": "d404083b",
   "metadata": {},
   "outputs": [
    {
     "ename": "UnicodeDecodeError",
     "evalue": "'utf-8' codec can't decode byte 0xb5 in position 3: invalid start byte",
     "output_type": "error",
     "traceback": [
      "\u001b[1;31m---------------------------------------------------------------------------\u001b[0m",
      "\u001b[1;31mUnicodeDecodeError\u001b[0m                        Traceback (most recent call last)",
      "Input \u001b[1;32mIn [5]\u001b[0m, in \u001b[0;36m<cell line: 89>\u001b[1;34m()\u001b[0m\n\u001b[0;32m     84\u001b[0m     df\u001b[38;5;241m.\u001b[39mto_excel(\u001b[38;5;124mf\u001b[39m\u001b[38;5;124m'\u001b[39m\u001b[38;5;124mdatafile/\u001b[39m\u001b[38;5;132;01m{\u001b[39;00mexcelFilename\u001b[38;5;132;01m}\u001b[39;00m\u001b[38;5;124m.xlsx\u001b[39m\u001b[38;5;124m'\u001b[39m)\n\u001b[0;32m     89\u001b[0m \u001b[38;5;28;01mif\u001b[39;00m \u001b[38;5;18m__name__\u001b[39m \u001b[38;5;241m==\u001b[39m \u001b[38;5;124m'\u001b[39m\u001b[38;5;124m__main__\u001b[39m\u001b[38;5;124m'\u001b[39m:\n\u001b[1;32m---> 90\u001b[0m     \u001b[43mwordFrequency\u001b[49m\u001b[43m(\u001b[49m\u001b[43m)\u001b[49m\n\u001b[0;32m     91\u001b[0m     saveExcels()\n",
      "Input \u001b[1;32mIn [5]\u001b[0m, in \u001b[0;36mwordFrequency\u001b[1;34m()\u001b[0m\n\u001b[0;32m     14\u001b[0m \u001b[38;5;28;01mdef\u001b[39;00m \u001b[38;5;21mwordFrequency\u001b[39m():\n\u001b[0;32m     15\u001b[0m  \n\u001b[0;32m     16\u001b[0m     \u001b[38;5;66;03m# 读取文件\u001b[39;00m\n\u001b[0;32m     17\u001b[0m     fn \u001b[38;5;241m=\u001b[39m \u001b[38;5;28mopen\u001b[39m(\u001b[38;5;124m'\u001b[39m\u001b[38;5;124mtwo/dao.txt\u001b[39m\u001b[38;5;124m'\u001b[39m, \u001b[38;5;124m'\u001b[39m\u001b[38;5;124mrt\u001b[39m\u001b[38;5;124m'\u001b[39m, encoding\u001b[38;5;241m=\u001b[39m\u001b[38;5;124m'\u001b[39m\u001b[38;5;124mutf-8\u001b[39m\u001b[38;5;124m'\u001b[39m)  \u001b[38;5;66;03m# 打开文件\u001b[39;00m\n\u001b[1;32m---> 18\u001b[0m     string_data \u001b[38;5;241m=\u001b[39m \u001b[43mfn\u001b[49m\u001b[38;5;241;43m.\u001b[39;49m\u001b[43mread\u001b[49m\u001b[43m(\u001b[49m\u001b[43m)\u001b[49m  \u001b[38;5;66;03m# 读出整个文件\u001b[39;00m\n\u001b[0;32m     19\u001b[0m     fn\u001b[38;5;241m.\u001b[39mclose()  \u001b[38;5;66;03m# 关闭文件\u001b[39;00m\n\u001b[0;32m     21\u001b[0m     \u001b[38;5;66;03m# 文本预处理\u001b[39;00m\n\u001b[0;32m     22\u001b[0m     \u001b[38;5;66;03m#读取停用词，创建停用词表\u001b[39;00m\n\u001b[0;32m     23\u001b[0m     \u001b[38;5;66;03m#line.strip()删除掉数据中的换行符\u001b[39;00m\n",
      "File \u001b[1;32mD:\\Anaconda\\lib\\codecs.py:322\u001b[0m, in \u001b[0;36mBufferedIncrementalDecoder.decode\u001b[1;34m(self, input, final)\u001b[0m\n\u001b[0;32m    319\u001b[0m \u001b[38;5;28;01mdef\u001b[39;00m \u001b[38;5;21mdecode\u001b[39m(\u001b[38;5;28mself\u001b[39m, \u001b[38;5;28minput\u001b[39m, final\u001b[38;5;241m=\u001b[39m\u001b[38;5;28;01mFalse\u001b[39;00m):\n\u001b[0;32m    320\u001b[0m     \u001b[38;5;66;03m# decode input (taking the buffer into account)\u001b[39;00m\n\u001b[0;32m    321\u001b[0m     data \u001b[38;5;241m=\u001b[39m \u001b[38;5;28mself\u001b[39m\u001b[38;5;241m.\u001b[39mbuffer \u001b[38;5;241m+\u001b[39m \u001b[38;5;28minput\u001b[39m\n\u001b[1;32m--> 322\u001b[0m     (result, consumed) \u001b[38;5;241m=\u001b[39m \u001b[38;5;28;43mself\u001b[39;49m\u001b[38;5;241;43m.\u001b[39;49m\u001b[43m_buffer_decode\u001b[49m\u001b[43m(\u001b[49m\u001b[43mdata\u001b[49m\u001b[43m,\u001b[49m\u001b[43m \u001b[49m\u001b[38;5;28;43mself\u001b[39;49m\u001b[38;5;241;43m.\u001b[39;49m\u001b[43merrors\u001b[49m\u001b[43m,\u001b[49m\u001b[43m \u001b[49m\u001b[43mfinal\u001b[49m\u001b[43m)\u001b[49m\n\u001b[0;32m    323\u001b[0m     \u001b[38;5;66;03m# keep undecoded input until the next call\u001b[39;00m\n\u001b[0;32m    324\u001b[0m     \u001b[38;5;28mself\u001b[39m\u001b[38;5;241m.\u001b[39mbuffer \u001b[38;5;241m=\u001b[39m data[consumed:]\n",
      "\u001b[1;31mUnicodeDecodeError\u001b[0m: 'utf-8' codec can't decode byte 0xb5 in position 3: invalid start byte"
     ]
    }
   ],
   "source": []
  },
  {
   "cell_type": "code",
   "execution_count": null,
   "id": "18b132ef",
   "metadata": {},
   "outputs": [],
   "source": []
  }
 ],
 "metadata": {
  "kernelspec": {
   "display_name": "Python 3 (ipykernel)",
   "language": "python",
   "name": "python3"
  },
  "language_info": {
   "codemirror_mode": {
    "name": "ipython",
    "version": 3
   },
   "file_extension": ".py",
   "mimetype": "text/x-python",
   "name": "python",
   "nbconvert_exporter": "python",
   "pygments_lexer": "ipython3",
   "version": "3.9.12"
  }
 },
 "nbformat": 4,
 "nbformat_minor": 5
}
