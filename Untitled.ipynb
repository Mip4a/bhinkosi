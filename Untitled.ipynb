{
 "cells": [
  {
   "cell_type": "code",
   "execution_count": 6,
   "id": "d8c9b29c",
   "metadata": {},
   "outputs": [
    {
     "name": "stdout",
     "output_type": "stream",
     "text": [
      "[39122.74578397 40382.33647561 41641.92716725]\n"
     ]
    }
   ],
   "source": [
    "import pandas as pd\n",
    "from sklearn.linear_model import LinearRegression\n",
    "\n",
    "# 读取 GDP 数据\n",
    "data = pd.read_csv('D:\\Jupyter\\GDP\\sichuan.csv')\n",
    "\n",
    "# 将数据分为特征和目标变量\n",
    "X = data['Year'].values.reshape(-1, 1)\n",
    "y = data['GDP'].values\n",
    "\n",
    "# 拟合线性回归模型\n",
    "model = LinearRegression().fit(X, y)\n",
    "\n",
    "# 预测未来三年的 GDP 增长\n",
    "future_years = [[2022], [2023], [2024]]\n",
    "predicted_gdp = model.predict(future_years)\n",
    "\n",
    "print(predicted_gdp)"
   ]
  },
  {
   "cell_type": "code",
   "execution_count": null,
   "id": "4b5ff43b",
   "metadata": {},
   "outputs": [],
   "source": []
  }
 ],
 "metadata": {
  "kernelspec": {
   "display_name": "Python 3 (ipykernel)",
   "language": "python",
   "name": "python3"
  },
  "language_info": {
   "codemirror_mode": {
    "name": "ipython",
    "version": 3
   },
   "file_extension": ".py",
   "mimetype": "text/x-python",
   "name": "python",
   "nbconvert_exporter": "python",
   "pygments_lexer": "ipython3",
   "version": "3.9.12"
  }
 },
 "nbformat": 4,
 "nbformat_minor": 5
}
