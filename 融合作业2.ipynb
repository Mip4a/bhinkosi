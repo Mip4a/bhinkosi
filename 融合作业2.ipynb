{
 "cells": [
  {
   "cell_type": "markdown",
   "metadata": {},
   "source": [
    "\n",
    "\n",
    "## Python作业\n",
    "\n"
   ]
  },
  {
   "cell_type": "markdown",
   "metadata": {},
   "source": [
    "#### 简答题"
   ]
  },
  {
   "cell_type": "markdown",
   "metadata": {},
   "source": [
    "- 1.Numpy是许多机器学习工具的基础，是哪些工具，为什么以Numpy为运算基础呢？"
   ]
  },
  {
   "cell_type": "code",
   "execution_count": null,
   "metadata": {},
   "outputs": [],
   "source": [
    "numpy能够高效进行矩阵变换和运算，提高数据处理效率。主要用于数组运算，最重要的一个特点是其 N 维数组对象 ndarray，它是一系列同类型数据的集合，以0下标为开始进行集合中元素的索引."
   ]
  },
  {
   "cell_type": "markdown",
   "metadata": {},
   "source": [
    "- 2.Numpy中的arange方法能够非常方便的创建序列，请使用代码说明其用法。"
   ]
  },
  {
   "cell_type": "code",
   "execution_count": 1,
   "metadata": {},
   "outputs": [
    {
     "ename": "SyntaxError",
     "evalue": "invalid syntax (1747994300.py, line 1)",
     "output_type": "error",
     "traceback": [
      "\u001b[1;36m  Input \u001b[1;32mIn [1]\u001b[1;36m\u001b[0m\n\u001b[1;33m    from numpy import\u001b[0m\n\u001b[1;37m                     ^\u001b[0m\n\u001b[1;31mSyntaxError\u001b[0m\u001b[1;31m:\u001b[0m invalid syntax\n"
     ]
    }
   ],
   "source": [
    "from numpy import\n",
    "T = arange(5) \n",
    "print(T) \n",
    "print(type(T)) \n",
    "T = arange(1, 5)\n",
    "print(T) \n",
    "T = arange(1, 5, 2)\n",
    "print(T)\n",
    "T = arange(1, 5.2, 0.6) \n",
    "print(T)  "
   ]
  },
  {
   "cell_type": "markdown",
   "metadata": {},
   "source": [
    "- 3.怎么理解empty（）产生的空矩阵，什么是空值呢？"
   ]
  },
  {
   "cell_type": "code",
   "execution_count": null,
   "metadata": {},
   "outputs": [],
   "source": [
    "根据给定的维度和数值类型返回一个新的数组，其元素不进行初始化，并不会将数组的元素值设定为0，所以运行起来可能快一些。"
   ]
  },
  {
   "cell_type": "markdown",
   "metadata": {},
   "source": [
    "- 4.Scipy是一个高级的科学计算库，它和Numpy联系很密切，什么是Scipy，详细叙述一下其功能"
   ]
  },
  {
   "cell_type": "code",
   "execution_count": null,
   "metadata": {},
   "outputs": [],
   "source": [
    "用于有效计算Numpy矩阵，使Numpy和Scipy协同工作。包含（矩阵运算，聚类算法，快速傅里叶变换以及线代等）"
   ]
  },
  {
   "cell_type": "markdown",
   "metadata": {},
   "source": [
    "- 5.什么是向量的内积，内积与点积是什么关系？请给出示例代码"
   ]
  },
  {
   "cell_type": "code",
   "execution_count": null,
   "metadata": {},
   "outputs": [],
   "source": [
    "我认为内积是相对于内积空间来言，内积可以定义在很大一类集合里面而点积不行。\n",
    ">>> arr1 = np.array([1,2,3])\n",
    ">>> arr2 = np.array([2,3,4])\n",
    "# 点积\n",
    ">>> outerx = np.outer(arr1,arr2)\n",
    ">>> outerx\n",
    "array([[ 2,  3,  4],\n",
    "       [ 4,  6,  8],\n",
    "       [ 6,  9, 12]])\n",
    "# 内积\n",
    ">>> dotx = np.dot(arr1,arr2)\n",
    ">>> dotx"
   ]
  },
  {
   "cell_type": "markdown",
   "metadata": {
    "collapsed": true
   },
   "source": [
    "- 6.矩阵的运算是机器学习算法实现的核心，请思考一下为什么，举出一个例子来"
   ]
  },
  {
   "cell_type": "code",
   "execution_count": null,
   "metadata": {},
   "outputs": [],
   "source": [
    "我认为用矩阵表示的数据可以实现高效、更快的计算，还可以使用线性代数的技术。\n",
    "例子为梯度下降法 找不到很好的例子了（"
   ]
  },
  {
   "cell_type": "markdown",
   "metadata": {
    "collapsed": true
   },
   "source": [
    "- 7.在对两个矩阵进行运算时，两个矩阵的shape应该是一样的，如果不一样，Numpy如何处理？\n",
    "提示：广播"
   ]
  },
  {
   "cell_type": "code",
   "execution_count": null,
   "metadata": {},
   "outputs": [],
   "source": [
    "设a为低维数组，b为高维数组，则a和b能运算的充分条件是：\n",
    "a.shape[-1]=b.shape[-1]、a.shape[-2]= b.shape[-2]、（a可以作为b的一个元素），或者 a.shape=(m,1)（或a.shape=(m, )） 且b.shape=(1,n) （a为行向量，b为列向量）\n",
    "\n",
    "当a为数字时，将a与b的每个元素运算，运算后的 shape 与b相同\n",
    "当a可以作为b的一个元素，将a与b中每个相同 shape 的子元素运算，运算后的 shape 与b相同\n",
    "当a为行向量b为列向量时，将a中每个元素与b中每个元素分别运算，运算后的 shape=(a.shape[1], b.shape[0])"
   ]
  },
  {
   "cell_type": "markdown",
   "metadata": {},
   "source": [
    "- 8.在读取series中数据时，可以通过下标，也可以通过已建立的key来访问，但是如果key不存在，就可能会报错了，怎样处理会更安全。"
   ]
  },
  {
   "cell_type": "code",
   "execution_count": null,
   "metadata": {},
   "outputs": [],
   "source": [
    "numpy中loadtxt（）处理"
   ]
  },
  {
   "cell_type": "markdown",
   "metadata": {},
   "source": [
    "- 9.在做数据分析时，都要看一下数据的分布状况，什么是数据的分布？常用的分布有哪些？"
   ]
  },
  {
   "cell_type": "code",
   "execution_count": null,
   "metadata": {},
   "outputs": [],
   "source": [
    "我觉得是深度学习中的数据分布其实就是数据和标签的一种对应关系。常用的离散型变量的数据分布就是每个类别的占比，和连续型变量的数据分布就是它满足的某种概率密度函数或者某几种概率密度函数的叠加。"
   ]
  },
  {
   "cell_type": "markdown",
   "metadata": {},
   "source": [
    "#### 编程题"
   ]
  },
  {
   "cell_type": "markdown",
   "metadata": {},
   "source": [
    "#### 1. 作业文件夹下有个叫做titanic.csv 文件，这个文件包含了在titanic事件中乘客的存活情况。请把这个文件读入成一个pandas dataframe，完成以下操作：\n",
    "- 对sex列进行操作，sex为male的都改成1，sex为female的改成0；\n",
    "- 把Cabin中的NaN都填充成0 (使用fillna方法)；\n",
    "- 乘客按照年龄做一个分类：\n",
    "   - 年龄在0-11岁的为0类,12-22为1类，23-33为2类，34-44为3类，45-55为4类，56-66为5类，其余为6类；\n",
    "   - 请做把Age改成乘客的年龄类别，如果年龄有缺失，就放入乘客的平均年龄。"
   ]
  },
  {
   "cell_type": "code",
   "execution_count": null,
   "metadata": {},
   "outputs": [],
   "source": [
    "import pandas as pd\n",
    "\n",
    "titanic_data = pd.read_csv('titanic_data.csv',encoding = 'gbk')\n",
    "titanic_data['Sex'][titanic_data['Sex'] == 'male'] = 1\n",
    "titanic_data['Sex'][titanic_data['Sex'] == 'female'] = 0\n",
    "def Age_select(a):\n",
    "    if a>0 and a<=11:\n",
    "        return '0种'\n",
    "    if a>=12 and a<=22:\n",
    "        return '1种'\n",
    "    if a>=23 and a<=33:\n",
    "        return '2种'\n",
    "    if a>=34 and a<=44:\n",
    "        return '3种'\n",
    "    if a>=45 and a<=55:\n",
    "        return '4种'\n",
    "    if a>=56 and a<=66:\n",
    "        return '5种'\n",
    "    else:\n",
    "        return '6种'\n",
    "    \n",
    "titani_c['Age'].fillna(titani_c['Age'].mean(),inplace=True)\n",
    "titani_c['Age']=titani_c.apply(lambda x:Age_select(x.Age),axis=1)\n",
    "titani_c.head(10)"
   ]
  },
  {
   "cell_type": "markdown",
   "metadata": {},
   "source": [
    "#### 2.请读入NVDA.csv中的数据，完成如下操作：\n",
    "- 计算nvda股票Adj Close每天的log return；\n",
    "- 找出nvda股票涨幅最大的10天；\n",
    "- 把英伟达每个月最后一天的股价记录下来，做成一张新的月线图，然后把Adj Close画成一张图。\n"
   ]
  },
  {
   "cell_type": "code",
   "execution_count": null,
   "metadata": {},
   "outputs": [],
   "source": [
    "import numpy as np\n",
    "import pandas as pd\n",
    "daily_close = aapl[['Adj Close']]\n",
    "daily_pct_change = daily_close.pct_change()\n",
    "daily_pct_change.fillna(0, inplace=True)\n",
    "print(daily_pct_change.head())\n",
    "..."
   ]
  },
  {
   "cell_type": "markdown",
   "metadata": {},
   "source": [
    "#### 3.导入作业文件夹中的数据文件student-info.csv和student-score.csv，完成以下操作：\n",
    "- 分别展示文件的前五行数据，注意该文件的分隔符是分号；\n",
    "- 把两个DataFrame \"df_info\" 和 \"df_score\" 按照学生ID对齐拼接起来，结果存在一个新DataFrame \"df\" 中 ；\n",
    "- 显示\"df\"所有的列信息；\n",
    "- 统计男生的平均分和女生的平均分(G1, G2, G3)，使用groupby和aggregate来操作；\n",
    "- 统计不同年龄的学生(G1, G2, G3)的平均分，并作出柱状图展示；\n",
    "- 统计不同学校(school一列)的学生的平均分，并作柱状图展示，要求同一科目的两个学校成绩贴在一起展示；\n",
    "- 统计一下每个学校三个科目总分的前十名，然后把前十名的同学所有信息输出。\n",
    "   "
   ]
  },
  {
   "cell_type": "code",
   "execution_count": null,
   "metadata": {},
   "outputs": [],
   "source": []
  }
 ],
 "metadata": {
  "kernelspec": {
   "display_name": "Python 3 (ipykernel)",
   "language": "python",
   "name": "python3"
  },
  "language_info": {
   "codemirror_mode": {
    "name": "ipython",
    "version": 3
   },
   "file_extension": ".py",
   "mimetype": "text/x-python",
   "name": "python",
   "nbconvert_exporter": "python",
   "pygments_lexer": "ipython3",
   "version": "3.9.12"
  }
 },
 "nbformat": 4,
 "nbformat_minor": 2
}
