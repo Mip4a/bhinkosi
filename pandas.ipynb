{
 "cells": [
  {
   "cell_type": "code",
   "execution_count": 4,
   "id": "ead9df37",
   "metadata": {},
   "outputs": [
    {
     "ename": "IndentationError",
     "evalue": "expected an indented block (592407961.py, line 10)",
     "output_type": "error",
     "traceback": [
      "\u001b[1;36m  Input \u001b[1;32mIn [4]\u001b[1;36m\u001b[0m\n\u001b[1;33m    self.movieName = name\u001b[0m\n\u001b[1;37m    ^\u001b[0m\n\u001b[1;31mIndentationError\u001b[0m\u001b[1;31m:\u001b[0m expected an indented block\n"
     ]
    }
   ],
   "source": [
    "import requests\n",
    "import re\n",
    "# 设置要爬取的电影名称及其网页地址\n",
    "movieName = \"过时·过节\" # 请将要爬取评议的电影名称复制在此\n",
    "commentPath =\"https://movie.douban.com/subject/34940880/comments?status=P\" # 请将要爬取评议的电影网页地址复制在此\n",
    "saveCommentFileName = \"《\"+movieName+\"》电影评论.txt\"\n",
    "# 定义网页爬取类\n",
    "class Spider_db:\n",
    " def __init__(self,name,url):\n",
    " self.movieName = name\n",
    " self.comment_url = url\n",
    " self.comment_headers = {\n",
    " \"User-Agent\": \"Mozilla/5.0 (Windows NT 10.0; Win64; x64) AppleWebKit/537.36 (KHTML, like Gecko) Chrome/96.0.4664.55 Safari/537.36 Edg\n",
    " def get_comment_url(self):\n",
    " url_list = []\n",
    " for i in range(10):\n",
    " url_list.append(self.comment_url.format(i * 20))\n",
    " return url_list\n",
    " def comment_db(self, url):\n",
    " resp = requests.get(url=url, headers=self.comment_headers)\n",
    " comments = re.findall('<span class=\"short\">(.*)</span>', resp.content.decode())\n",
    " return comments\n",
    " def save_text(self, db_text): \n",
    " with open(saveCommentFileName, \"a+\", encoding=\"utf-8\") as f:\n",
    " f.write(db_text)\n",
    " f.write(\"\\n\")\n",
    " def run(self):\n",
    " # 1.页得到要爬取数据的页面\n",
    " comment_list = self.get_comment_url() \n",
    " # 2.进入电影评论页面爬取影评\n",
    " for url in comment_list:\n",
    " comments = self.comment_db(url)\n",
    " for content in comments:\n",
    " self.save_text(content)\n",
    " print(\"影评爬取后保存成功。\")\n",
    "if __name__ == '__main__':\n",
    " spider = Spider_db(movieName,commentPath)\n",
    " spider.run()"
   ]
  },
  {
   "cell_type": "code",
   "execution_count": null,
   "id": "2194233d",
   "metadata": {},
   "outputs": [],
   "source": []
  },
  {
   "cell_type": "code",
   "execution_count": null,
   "id": "971fdebf",
   "metadata": {},
   "outputs": [],
   "source": []
  }
 ],
 "metadata": {
  "kernelspec": {
   "display_name": "Python 3 (ipykernel)",
   "language": "python",
   "name": "python3"
  },
  "language_info": {
   "codemirror_mode": {
    "name": "ipython",
    "version": 3
   },
   "file_extension": ".py",
   "mimetype": "text/x-python",
   "name": "python",
   "nbconvert_exporter": "python",
   "pygments_lexer": "ipython3",
   "version": "3.9.12"
  }
 },
 "nbformat": 4,
 "nbformat_minor": 5
}
